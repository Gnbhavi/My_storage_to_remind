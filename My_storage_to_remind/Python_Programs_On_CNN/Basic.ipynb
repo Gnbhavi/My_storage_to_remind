{
 "cells": [
  {
   "cell_type": "code",
   "execution_count": 9,
   "id": "ac1bea66",
   "metadata": {},
   "outputs": [],
   "source": [
    "import tensorflow as tf\n",
    "import math\n",
    "import timeit\n",
    "from datetime import datetime"
   ]
  },
  {
   "cell_type": "code",
   "execution_count": 10,
   "id": "d8730b09",
   "metadata": {},
   "outputs": [],
   "source": [
    "def feed_forward_func(x, y):\n",
    "    sigy = tf.sigmoid(y)#sigmoid function with respect to y    #(1)\n",
    "    num = x+sigy# numerator completed                               #(2)\n",
    "    sigx = tf.sigmoid(x)#sigmoid function with respect to x    #(3)\n",
    "    xpy = x+y                                                       #(4)\n",
    "    xpysqr = xpy**2                                                 #(5)\n",
    "    den = sigx + xpysqr #denominator                                #(6)\n",
    "    invden = 1/ den                                                 #(7)\n",
    "    f  = num * invden\n",
    "    return f"
   ]
  },
  {
   "cell_type": "code",
   "execution_count": 11,
   "id": "f0173757",
   "metadata": {},
   "outputs": [],
   "source": [
    "tf_feed_forward_func = tf.function(feed_forward_func)"
   ]
  },
  {
   "cell_type": "code",
   "execution_count": 12,
   "id": "0f06ae8d",
   "metadata": {},
   "outputs": [
    {
     "name": "stderr",
     "output_type": "stream",
     "text": [
      "2022-05-12 14:18:04.725038: I tensorflow/core/grappler/optimizers/custom_graph_optimizer_registry.cc:113] Plugin optimizer for device_type GPU is enabled.\n"
     ]
    },
    {
     "data": {
      "text/plain": [
       "<tf.Tensor: shape=(), dtype=float32, numpy=1.5456449>"
      ]
     },
     "execution_count": 12,
     "metadata": {},
     "output_type": "execute_result"
    }
   ],
   "source": [
    "A = tf.Variable(3.0)\n",
    "B = tf.Variable(-4.0)\n",
    "tf_feed_forward_func(A, B)"
   ]
  },
  {
   "cell_type": "code",
   "execution_count": 13,
   "id": "9768647e",
   "metadata": {},
   "outputs": [
    {
     "data": {
      "text/plain": [
       "\"def tf__feed_forward_func(x, y):\\n    with ag__.FunctionScope('feed_forward_func', 'fscope', ag__.ConversionOptions(recursive=True, user_requested=True, optional_features=(), internal_convert_user_code=True)) as fscope:\\n        do_return = False\\n        retval_ = ag__.UndefinedReturnValue()\\n        sigy = ag__.converted_call(ag__.ld(tf).sigmoid, (ag__.ld(y),), None, fscope)\\n        num = ag__.ld(x) + ag__.ld(sigy)\\n        sigx = ag__.converted_call(ag__.ld(tf).sigmoid, (ag__.ld(x),), None, fscope)\\n        xpy = ag__.ld(x) + ag__.ld(y)\\n        xpysqr = ag__.ld(xpy) ** 2\\n        den = ag__.ld(sigx) + ag__.ld(xpysqr)\\n        invden = 1 / ag__.ld(den)\\n        f = ag__.ld(num) * ag__.ld(invden)\\n        try:\\n            do_return = True\\n            retval_ = ag__.ld(f)\\n        except:\\n            do_return = False\\n            raise\\n        return fscope.ret(retval_, do_return)\\n\""
      ]
     },
     "execution_count": 13,
     "metadata": {},
     "output_type": "execute_result"
    }
   ],
   "source": [
    "tf.autograph.to_code(feed_forward_func)"
   ]
  },
  {
   "cell_type": "code",
   "execution_count": 14,
   "id": "9ec68239",
   "metadata": {},
   "outputs": [
    {
     "data": {
      "text/plain": [
       "node {\n",
       "  name: \"x\"\n",
       "  op: \"Placeholder\"\n",
       "  attr {\n",
       "    key: \"_user_specified_name\"\n",
       "    value {\n",
       "      s: \"x\"\n",
       "    }\n",
       "  }\n",
       "  attr {\n",
       "    key: \"dtype\"\n",
       "    value {\n",
       "      type: DT_FLOAT\n",
       "    }\n",
       "  }\n",
       "  attr {\n",
       "    key: \"shape\"\n",
       "    value {\n",
       "      shape {\n",
       "      }\n",
       "    }\n",
       "  }\n",
       "}\n",
       "node {\n",
       "  name: \"y\"\n",
       "  op: \"Placeholder\"\n",
       "  attr {\n",
       "    key: \"_user_specified_name\"\n",
       "    value {\n",
       "      s: \"y\"\n",
       "    }\n",
       "  }\n",
       "  attr {\n",
       "    key: \"dtype\"\n",
       "    value {\n",
       "      type: DT_FLOAT\n",
       "    }\n",
       "  }\n",
       "  attr {\n",
       "    key: \"shape\"\n",
       "    value {\n",
       "      shape {\n",
       "      }\n",
       "    }\n",
       "  }\n",
       "}\n",
       "node {\n",
       "  name: \"Sigmoid\"\n",
       "  op: \"Sigmoid\"\n",
       "  input: \"y\"\n",
       "  attr {\n",
       "    key: \"T\"\n",
       "    value {\n",
       "      type: DT_FLOAT\n",
       "    }\n",
       "  }\n",
       "}\n",
       "node {\n",
       "  name: \"add\"\n",
       "  op: \"AddV2\"\n",
       "  input: \"x\"\n",
       "  input: \"Sigmoid\"\n",
       "  attr {\n",
       "    key: \"T\"\n",
       "    value {\n",
       "      type: DT_FLOAT\n",
       "    }\n",
       "  }\n",
       "}\n",
       "node {\n",
       "  name: \"Sigmoid_1\"\n",
       "  op: \"Sigmoid\"\n",
       "  input: \"x\"\n",
       "  attr {\n",
       "    key: \"T\"\n",
       "    value {\n",
       "      type: DT_FLOAT\n",
       "    }\n",
       "  }\n",
       "}\n",
       "node {\n",
       "  name: \"add_1\"\n",
       "  op: \"AddV2\"\n",
       "  input: \"x\"\n",
       "  input: \"y\"\n",
       "  attr {\n",
       "    key: \"T\"\n",
       "    value {\n",
       "      type: DT_FLOAT\n",
       "    }\n",
       "  }\n",
       "}\n",
       "node {\n",
       "  name: \"pow/y\"\n",
       "  op: \"Const\"\n",
       "  attr {\n",
       "    key: \"dtype\"\n",
       "    value {\n",
       "      type: DT_FLOAT\n",
       "    }\n",
       "  }\n",
       "  attr {\n",
       "    key: \"value\"\n",
       "    value {\n",
       "      tensor {\n",
       "        dtype: DT_FLOAT\n",
       "        tensor_shape {\n",
       "        }\n",
       "        float_val: 2.0\n",
       "      }\n",
       "    }\n",
       "  }\n",
       "}\n",
       "node {\n",
       "  name: \"pow\"\n",
       "  op: \"Pow\"\n",
       "  input: \"add_1\"\n",
       "  input: \"pow/y\"\n",
       "  attr {\n",
       "    key: \"T\"\n",
       "    value {\n",
       "      type: DT_FLOAT\n",
       "    }\n",
       "  }\n",
       "}\n",
       "node {\n",
       "  name: \"add_2\"\n",
       "  op: \"AddV2\"\n",
       "  input: \"Sigmoid_1\"\n",
       "  input: \"pow\"\n",
       "  attr {\n",
       "    key: \"T\"\n",
       "    value {\n",
       "      type: DT_FLOAT\n",
       "    }\n",
       "  }\n",
       "}\n",
       "node {\n",
       "  name: \"truediv/x\"\n",
       "  op: \"Const\"\n",
       "  attr {\n",
       "    key: \"dtype\"\n",
       "    value {\n",
       "      type: DT_FLOAT\n",
       "    }\n",
       "  }\n",
       "  attr {\n",
       "    key: \"value\"\n",
       "    value {\n",
       "      tensor {\n",
       "        dtype: DT_FLOAT\n",
       "        tensor_shape {\n",
       "        }\n",
       "        float_val: 1.0\n",
       "      }\n",
       "    }\n",
       "  }\n",
       "}\n",
       "node {\n",
       "  name: \"truediv\"\n",
       "  op: \"RealDiv\"\n",
       "  input: \"truediv/x\"\n",
       "  input: \"add_2\"\n",
       "  attr {\n",
       "    key: \"T\"\n",
       "    value {\n",
       "      type: DT_FLOAT\n",
       "    }\n",
       "  }\n",
       "}\n",
       "node {\n",
       "  name: \"mul\"\n",
       "  op: \"Mul\"\n",
       "  input: \"add\"\n",
       "  input: \"truediv\"\n",
       "  attr {\n",
       "    key: \"T\"\n",
       "    value {\n",
       "      type: DT_FLOAT\n",
       "    }\n",
       "  }\n",
       "}\n",
       "node {\n",
       "  name: \"Identity\"\n",
       "  op: \"Identity\"\n",
       "  input: \"mul\"\n",
       "  attr {\n",
       "    key: \"T\"\n",
       "    value {\n",
       "      type: DT_FLOAT\n",
       "    }\n",
       "  }\n",
       "}\n",
       "versions {\n",
       "  producer: 987\n",
       "}"
      ]
     },
     "execution_count": 14,
     "metadata": {},
     "output_type": "execute_result"
    }
   ],
   "source": [
    "tf_feed_forward_func.get_concrete_function(tf.constant(1.0), tf.constant(1.0)).graph.as_graph_def()"
   ]
  },
  {
   "cell_type": "code",
   "execution_count": 27,
   "id": "3bd51cf5",
   "metadata": {},
   "outputs": [],
   "source": [
    "class Dense(tf.Module):\n",
    "  def __init__(self, in_features, out_features, name=None):\n",
    "    super().__init__(name=name)\n",
    "    self.w = tf.Variable(\n",
    "      tf.random.normal([in_features, out_features]), name='w')\n",
    "    self.b = tf.Variable(tf.random.normal([out_features]), name='b')\n",
    "  def __call__(self, x):\n",
    "    y = tf.matmul(x, self.w) + self.b\n",
    "    return tf.nn.relu(y)"
   ]
  },
  {
   "cell_type": "code",
   "execution_count": 28,
   "id": "27a872a9",
   "metadata": {},
   "outputs": [],
   "source": [
    "class SequentialModule(tf.Module):\n",
    "  def __init__(self, name=None):\n",
    "    super().__init__(name=name)\n",
    "\n",
    "    self.dense_1 = Dense(in_features=3, out_features=3)\n",
    "    self.dense_2 = Dense(in_features=3, out_features=2)\n",
    "\n",
    "  def __call__(self, x):\n",
    "    x = self.dense_1(x)\n",
    "    return self.dense_2(x)\n",
    "\n",
    "# You have made a model!\n",
    "my_model = SequentialModule(name=\"the_model\")"
   ]
  },
  {
   "cell_type": "code",
   "execution_count": 30,
   "id": "b5d35bc6",
   "metadata": {},
   "outputs": [
    {
     "name": "stdout",
     "output_type": "stream",
     "text": [
      "tf.Tensor([[2.4688256 2.5380783]], shape=(1, 2), dtype=float32)\n"
     ]
    },
    {
     "data": {
      "text/plain": [
       "(<tf.Variable 'b:0' shape=(3,) dtype=float32, numpy=array([-0.11463245, -1.6770751 , -0.16329676], dtype=float32)>,\n",
       " <tf.Variable 'w:0' shape=(3, 3) dtype=float32, numpy=\n",
       " array([[-0.41852248,  1.2297032 , -0.34434792],\n",
       "        [ 0.9649756 ,  1.1143554 ,  1.0111719 ],\n",
       "        [ 1.2907805 ,  0.6392945 , -0.3404188 ]], dtype=float32)>,\n",
       " <tf.Variable 'b:0' shape=(2,) dtype=float32, numpy=array([0.2691343 , 0.10299923], dtype=float32)>,\n",
       " <tf.Variable 'w:0' shape=(3, 2) dtype=float32, numpy=\n",
       " array([[ 0.45411962, -0.644501  ],\n",
       "        [ 0.24688417,  1.1109371 ],\n",
       "        [-0.97227424, -0.07377498]], dtype=float32)>)"
      ]
     },
     "execution_count": 30,
     "metadata": {},
     "output_type": "execute_result"
    }
   ],
   "source": [
    "# Call it, with random results\n",
    "print(my_model(tf.constant([[2.0, 2.0, 2.0]])))\n",
    "my_model.variables"
   ]
  },
  {
   "cell_type": "code",
   "execution_count": null,
   "id": "a55dd8e5",
   "metadata": {},
   "outputs": [],
   "source": []
  }
 ],
 "metadata": {
  "kernelspec": {
   "display_name": "Python [conda env:teester_first]",
   "language": "python",
   "name": "conda-env-teester_first-py"
  },
  "language_info": {
   "codemirror_mode": {
    "name": "ipython",
    "version": 3
   },
   "file_extension": ".py",
   "mimetype": "text/x-python",
   "name": "python",
   "nbconvert_exporter": "python",
   "pygments_lexer": "ipython3",
   "version": "3.9.12"
  }
 },
 "nbformat": 4,
 "nbformat_minor": 5
}
