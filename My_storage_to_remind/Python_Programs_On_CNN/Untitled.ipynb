{
 "cells": [
  {
   "cell_type": "code",
   "execution_count": 1,
   "id": "9c05028f",
   "metadata": {},
   "outputs": [],
   "source": [
    "import tensorflow as tf"
   ]
  },
  {
   "cell_type": "code",
   "execution_count": 2,
   "id": "f8966e84",
   "metadata": {},
   "outputs": [
    {
     "name": "stdout",
     "output_type": "stream",
     "text": [
      "[PhysicalDevice(name='/physical_device:GPU:0', device_type='GPU')]\n"
     ]
    }
   ],
   "source": [
    "print(tf.config.list_physical_devices('GPU'))"
   ]
  },
  {
   "cell_type": "code",
   "execution_count": 18,
   "id": "61a00ef0",
   "metadata": {},
   "outputs": [],
   "source": [
    "layer1 = tf.keras.layers.Conv2D(32, (1,1),  activation = 'relu')"
   ]
  },
  {
   "cell_type": "code",
   "execution_count": 22,
   "id": "a77bca9e",
   "metadata": {},
   "outputs": [],
   "source": [
    "x = tf.random.normal([1, 28,28,3], 0 ,1)"
   ]
  },
  {
   "cell_type": "code",
   "execution_count": 23,
   "id": "f5bdc8dd",
   "metadata": {},
   "outputs": [],
   "source": [
    "y = layer1(x)"
   ]
  },
  {
   "cell_type": "code",
   "execution_count": 24,
   "id": "ec09b82a",
   "metadata": {},
   "outputs": [
    {
     "data": {
      "text/plain": [
       "TensorShape([1, 28, 28, 32])"
      ]
     },
     "execution_count": 24,
     "metadata": {},
     "output_type": "execute_result"
    }
   ],
   "source": [
    "y.shape"
   ]
  },
  {
   "cell_type": "code",
   "execution_count": 26,
   "id": "f277c533",
   "metadata": {},
   "outputs": [
    {
     "data": {
      "text/plain": [
       "[<tf.Variable 'conv2d_2/kernel:0' shape=(1, 1, 3, 32) dtype=float32, numpy=\n",
       " array([[[[-0.15585023,  0.27023622,  0.15314952, -0.40848368,\n",
       "            0.23806861, -0.0905495 , -0.17171822,  0.4075549 ,\n",
       "            0.37934634,  0.04656547, -0.27768546, -0.30269828,\n",
       "           -0.3044857 ,  0.02882528,  0.05871224,  0.00803655,\n",
       "           -0.01447198, -0.28502023, -0.10738301, -0.0065363 ,\n",
       "            0.05549452, -0.24204028, -0.26313126,  0.41307655,\n",
       "           -0.10805941, -0.09996685,  0.22549549,  0.15080759,\n",
       "           -0.08336404,  0.2352334 ,  0.14806172,  0.1937364 ],\n",
       "          [ 0.04309684, -0.323377  ,  0.12321666,  0.404995  ,\n",
       "            0.2652878 ,  0.16951069,  0.3791462 , -0.39501485,\n",
       "            0.36103132,  0.12531015, -0.15183994, -0.41311556,\n",
       "            0.3488026 , -0.09748092,  0.22561863,  0.34377018,\n",
       "            0.06219971,  0.24291024, -0.05881321, -0.25571927,\n",
       "            0.20308676, -0.06821707,  0.26279166, -0.2474538 ,\n",
       "            0.12066409, -0.2775369 , -0.04271868,  0.08760145,\n",
       "            0.26176813, -0.07207158, -0.19600755, -0.2559791 ],\n",
       "          [ 0.21793881,  0.27659842, -0.00457326,  0.15454593,\n",
       "           -0.16540127, -0.19269875,  0.27648863,  0.10755548,\n",
       "           -0.2886425 , -0.02447581,  0.16066799,  0.38140568,\n",
       "            0.36281046,  0.0248363 , -0.23884973, -0.08772102,\n",
       "           -0.27776444, -0.06351647,  0.14350131, -0.17769875,\n",
       "           -0.06883827,  0.20474854,  0.3298013 ,  0.3740749 ,\n",
       "           -0.33397347,  0.36713573,  0.1593794 ,  0.4032701 ,\n",
       "            0.4078363 , -0.24509668, -0.1954358 ,  0.24347845]]]],\n",
       "       dtype=float32)>,\n",
       " <tf.Variable 'conv2d_2/bias:0' shape=(32,) dtype=float32, numpy=\n",
       " array([0., 0., 0., 0., 0., 0., 0., 0., 0., 0., 0., 0., 0., 0., 0., 0., 0.,\n",
       "        0., 0., 0., 0., 0., 0., 0., 0., 0., 0., 0., 0., 0., 0., 0.],\n",
       "       dtype=float32)>]"
      ]
     },
     "execution_count": 26,
     "metadata": {},
     "output_type": "execute_result"
    }
   ],
   "source": [
    "layer1.variables"
   ]
  },
  {
   "cell_type": "code",
   "execution_count": null,
   "id": "c2d811dd",
   "metadata": {},
   "outputs": [],
   "source": [
    "class mycovolayer(tf.keras.layers.Layer):\n",
    "    def __init__(self, filters, kernelsize):\n",
    "        super(mycovolayer, self).__init()\n",
    "        self.filter1, self.filter2 = "
   ]
  }
 ],
 "metadata": {
  "kernelspec": {
   "display_name": "Python [conda env:For_two_layer_CNN]",
   "language": "python",
   "name": "conda-env-For_two_layer_CNN-py"
  },
  "language_info": {
   "codemirror_mode": {
    "name": "ipython",
    "version": 3
   },
   "file_extension": ".py",
   "mimetype": "text/x-python",
   "name": "python",
   "nbconvert_exporter": "python",
   "pygments_lexer": "ipython3",
   "version": "3.10.4"
  }
 },
 "nbformat": 4,
 "nbformat_minor": 5
}
