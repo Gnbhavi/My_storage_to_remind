{
 "cells": [
  {
   "cell_type": "code",
   "execution_count": 13,
   "metadata": {},
   "outputs": [],
   "source": [
    "import Ws_model_generator as wsg\n",
    "import networkx as nx\n",
    "import pandas as pd\n",
    "import numpy as np"
   ]
  },
  {
   "cell_type": "code",
   "execution_count": 14,
   "metadata": {},
   "outputs": [],
   "source": [
    "def values_generator_depending_on_n(num_vertex, change_or_not):\n",
    "    ws = wsg.Ws_generator(num_vertex, 6)\n",
    "    if change_or_not:\n",
    "        ws.G.remove_edge(0, 1)\n",
    "        ws.G.add_edge(0, 4)\n",
    "    minimum_distances = dict(nx.shortest_path_length(ws.G))\n",
    "    graph = ws.G\n",
    "    the_neighbourhood_vertices = {}\n",
    "    for edges_of_graph in ws.G.edges():\n",
    "        the_neighbourhood_vertices['n_u_' + str(edges_of_graph[0]) + str(edges_of_graph[1])] = []\n",
    "        the_neighbourhood_vertices['n_v_' + str(edges_of_graph[0]) + str(edges_of_graph[1])] = []\n",
    "        for vertices_in_G in range(ws.num_vertices):\n",
    "            if minimum_distances[edges_of_graph[0]][vertices_in_G] < minimum_distances[edges_of_graph[1]][vertices_in_G]:\n",
    "                the_neighbourhood_vertices['n_u_' + str(edges_of_graph[0]) + str(edges_of_graph[1])].append(vertices_in_G)\n",
    "            elif minimum_distances[edges_of_graph[0]][vertices_in_G] > minimum_distances[edges_of_graph[1]][vertices_in_G]:\n",
    "                the_neighbourhood_vertices['n_v_' + str(edges_of_graph[0]) + str(edges_of_graph[1])].append(vertices_in_G)\n",
    "    return graph, the_neighbourhood_vertices"
   ]
  },
  {
   "cell_type": "code",
   "execution_count": 22,
   "metadata": {},
   "outputs": [],
   "source": [
    "k1, the_table_value_u_v_unchanged = values_generator_depending_on_n(20, False)"
   ]
  },
  {
   "cell_type": "code",
   "execution_count": 23,
   "metadata": {},
   "outputs": [],
   "source": [
    "k2, the_table_value_u_v_changed = values_generator_depending_on_n(20, True)\n"
   ]
  },
  {
   "cell_type": "code",
   "execution_count": 24,
   "metadata": {},
   "outputs": [
    {
     "name": "stdout",
     "output_type": "stream",
     "text": [
      "your idiotic idea is cool\n",
      "your idiotic idea is cool\n",
      "your idiotic idea is cool\n",
      "your idiotic idea is cool\n",
      "your idiotic idea is cool\n",
      "your idiotic idea is cool\n",
      "(5, 7)\n",
      "your idiotic idea is cool\n",
      "(6, 7)\n",
      "your idiotic idea is cool\n",
      "your idiotic idea is cool\n",
      "(7, 8)\n",
      "(7, 9)\n",
      "your idiotic idea is cool\n",
      "your idiotic idea is cool\n",
      "(8, 10)\n",
      "your idiotic idea is cool\n",
      "(9, 10)\n",
      "your idiotic idea is cool\n",
      "your idiotic idea is cool\n",
      "your idiotic idea is cool\n",
      "your idiotic idea is cool\n",
      "your idiotic idea is cool\n",
      "your idiotic idea is cool\n",
      "your idiotic idea is cool\n",
      "(11, 14)\n",
      "your idiotic idea is cool\n",
      "(12, 14)\n",
      "your idiotic idea is cool\n",
      "(13, 14)\n",
      "your idiotic idea is cool\n",
      "your idiotic idea is cool\n",
      "your idiotic idea is cool\n",
      "your idiotic idea is cool\n",
      "(14, 17)\n",
      "your idiotic idea is cool\n",
      "(15, 17)\n",
      "your idiotic idea is cool\n",
      "(16, 17)\n",
      "your idiotic idea is cool\n",
      "your idiotic idea is cool\n",
      "your idiotic idea is cool\n",
      "your idiotic idea is cool\n",
      "your idiotic idea is cool\n"
     ]
    }
   ],
   "source": [
    "for edges_in in k1.edges:\n",
    "    if edges_in[0] != 0 and edges_in[1] != 0 and edges_in[0] != 1 and edges_in[1] != 1 and edges_in[0] != 4 and edges_in[1] != 4:\n",
    "        if the_table_value_u_v_changed[\"n_u_\" + str(edges_in[0]) + str(edges_in[1])] != the_table_value_u_v_unchanged[\"n_u_\" + str(edges_in[0]) + str(edges_in[1])]:\n",
    "            print(edges_in)\n",
    "        else:\n",
    "             print(\"your idiotic idea is cool\")"
   ]
  },
  {
   "cell_type": "code",
   "execution_count": null,
   "metadata": {},
   "outputs": [],
   "source": []
  },
  {
   "cell_type": "code",
   "execution_count": null,
   "metadata": {},
   "outputs": [],
   "source": []
  }
 ],
 "metadata": {
  "kernelspec": {
   "display_name": "VT_codes",
   "language": "python",
   "name": "python3"
  },
  "language_info": {
   "codemirror_mode": {
    "name": "ipython",
    "version": 3
   },
   "file_extension": ".py",
   "mimetype": "text/x-python",
   "name": "python",
   "nbconvert_exporter": "python",
   "pygments_lexer": "ipython3",
   "version": "3.10.4"
  },
  "orig_nbformat": 4
 },
 "nbformat": 4,
 "nbformat_minor": 2
}
