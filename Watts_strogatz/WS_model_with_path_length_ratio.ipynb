{
 "cells": [
  {
   "cell_type": "code",
   "execution_count": 4,
   "metadata": {},
   "outputs": [],
   "source": [
    "import Ws_model_generator as WS\n",
    "import numpy as np\n",
    "import networkx as nx"
   ]
  },
  {
   "cell_type": "code",
   "execution_count": 5,
   "metadata": {},
   "outputs": [],
   "source": [
    "n = 50\n",
    "p = np.linspace(0, 1, 10)\n",
    "# k = [2 * val for val in range(1, 25)]"
   ]
  },
  {
   "cell_type": "code",
   "execution_count": 6,
   "metadata": {},
   "outputs": [],
   "source": [
    "szeged_ind = {}\n",
    "normalised_szeged_ind = {}\n",
    "\n",
    "for k_val in range(1, int(n/2)):\n",
    "    k = 2 * k_val\n",
    "    wsg = WS.Ws_generator(n, k)\n",
    "    szeged_ind[k] = {}\n",
    "    normalised_szeged_ind[k] = {}\n",
    "    for p_val in p:\n",
    "        G1 = wsg.rewiring_ws(p_val)\n",
    "        if not nx.is_connected(G1):\n",
    "            print(\"shit the graph is not connected for p_val:\", p_val)\n",
    "            break\n",
    "        C_u, C_v = WS.neighbourhood_values_generator(G1)\n",
    "        A1 = 1/(G1.number_of_nodes() * G1.number_of_edges() * nx.diameter(G1))\n",
    "        szeged_ind[k][p_val] = np.sum(np.dot(C_u, C_v))\n",
    "        normalised_szeged_ind[k][p_val] = szeged_ind[k][p_val] * A1"
   ]
  },
  {
   "cell_type": "code",
   "execution_count": null,
   "metadata": {},
   "outputs": [],
   "source": []
  }
 ],
 "metadata": {
  "kernelspec": {
   "display_name": "VT_codes",
   "language": "python",
   "name": "python3"
  },
  "language_info": {
   "codemirror_mode": {
    "name": "ipython",
    "version": 3
   },
   "file_extension": ".py",
   "mimetype": "text/x-python",
   "name": "python",
   "nbconvert_exporter": "python",
   "pygments_lexer": "ipython3",
   "version": "3.10.4"
  },
  "orig_nbformat": 4
 },
 "nbformat": 4,
 "nbformat_minor": 2
}
