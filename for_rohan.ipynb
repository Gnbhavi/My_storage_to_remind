{
 "cells": [
  {
   "cell_type": "code",
   "execution_count": 6,
   "metadata": {},
   "outputs": [],
   "source": [
    "input_table = {\n",
    "    \"DAVD\": 8,\n",
    "    \"EAF\": 28,\n",
    "    \"ETF\": 18,\n",
    "    \"EWI\": 15,\n",
    "    \"FOI\": 10,\n",
    "    \"PF\": 20,\n",
    "    \"PL\": 1,\n",
    "    \"PPF\": 16,\n",
    "    \"SCIA\": 14,\n",
    "    \"SR\": 10,\n",
    "    \"TI\": 7,\n",
    "    \"TL\": 3,\n",
    "}\n",
    "max_allowed = {\n",
    "    \"EWI\": 6,\n",
    "    \"FOI\": 7,\n",
    "    \"EAF\": 10,\n",
    "    \"DAVD\": 4,\n",
    "    \"SCIA\": 4,\n",
    "    \"SR\": 5,\n",
    "    \"TL\": 6,\n",
    "    \"PL\": 6,\n",
    "    \"PF\": 7,\n",
    "    \"TI\": 7,\n",
    "    \"PPF\": 10,\n",
    "    \"ETF\": 10,\n",
    "}"
   ]
  },
  {
   "cell_type": "code",
   "execution_count": 7,
   "metadata": {},
   "outputs": [],
   "source": [
    "labels = {'A': \"EWI\",\n",
    "    'B': \"FOI\",\n",
    "    'C': \"EAF\",\n",
    "    'D': \"DAVD\",\n",
    "    'E': \"SCIA\",\n",
    "    'F': \"SR\",\n",
    "    'G': \"TL\",\n",
    "    'H': \"PL\",\n",
    "    'I': \"PF\",\n",
    "    'J': \"TI\",\n",
    "    'K': \"PPF\",\n",
    "    'L': \"ETF\"}"
   ]
  },
  {
   "attachments": {},
   "cell_type": "markdown",
   "metadata": {},
   "source": [
    "# Rules of the job\n",
    "- Total job assigned should be four per day\n",
    "- Total job count should be 25"
   ]
  },
  {
   "cell_type": "code",
   "execution_count": 8,
   "metadata": {},
   "outputs": [
    {
     "data": {
      "text/plain": [
       "['FOI', 'EAF', 'PF', 'TI', 'PPF', 'ETF']"
      ]
     },
     "execution_count": 8,
     "metadata": {},
     "output_type": "execute_result"
    }
   ],
   "source": [
    "more_than_7 = [i for i in max_allowed if max_allowed[i] > 6]   \n",
    "more_than_7"
   ]
  },
  {
   "attachments": {},
   "cell_type": "markdown",
   "metadata": {},
   "source": [
    "# Findings\n",
    "\n",
    "- \"DAVD\" can only be in four\n",
    "- \"SCIA\" has to be more than 4 in atleast one day\n",
    "- \"PL\" can come in only one day\n",
    "- One of \"more_than_7\" should be in every day"
   ]
  },
  {
   "cell_type": "code",
   "execution_count": 9,
   "metadata": {},
   "outputs": [
    {
     "data": {
      "text/plain": [
       "[['SR', 'EWI'],\n",
       " ['EWI', 'PL'],\n",
       " ['EWI', 'SR'],\n",
       " ['SCIA', 'PL'],\n",
       " ['PL', 'PL'],\n",
       " ['PL', 'PL']]"
      ]
     },
     "execution_count": 9,
     "metadata": {},
     "output_type": "execute_result"
    }
   ],
   "source": [
    "import random\n",
    "less_than_7 = [i for i in max_allowed if max_allowed[i] < 7]   \n",
    "less_than_7 \n",
    "random_two_slots = [random.choices(less_than_7, k=2) for _ in range(6)]\n",
    "random_two_slots"
   ]
  },
  {
   "cell_type": "code",
   "execution_count": null,
   "metadata": {},
   "outputs": [],
   "source": []
  }
 ],
 "metadata": {
  "kernelspec": {
   "display_name": "VT_codes",
   "language": "python",
   "name": "python3"
  },
  "language_info": {
   "codemirror_mode": {
    "name": "ipython",
    "version": 3
   },
   "file_extension": ".py",
   "mimetype": "text/x-python",
   "name": "python",
   "nbconvert_exporter": "python",
   "pygments_lexer": "ipython3",
   "version": "3.10.4"
  },
  "orig_nbformat": 4
 },
 "nbformat": 4,
 "nbformat_minor": 2
}
