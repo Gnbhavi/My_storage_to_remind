{
 "cells": [
  {
   "cell_type": "code",
   "execution_count": 18,
   "metadata": {},
   "outputs": [
    {
     "name": "stdout",
     "output_type": "stream",
     "text": [
      "The autoreload extension is already loaded. To reload it, use:\n",
      "  %reload_ext autoreload\n"
     ]
    }
   ],
   "source": [
    "%load_ext autoreload\n",
    "%autoreload 2"
   ]
  },
  {
   "cell_type": "markdown",
   "metadata": {},
   "source": [
    "# Converting a pdf into DNA code words"
   ]
  },
  {
   "cell_type": "code",
   "execution_count": 65,
   "metadata": {},
   "outputs": [],
   "source": [
    "import numpy as np\n",
    "import vtcode_copy as vt\n",
    "import Kernel_code as kc"
   ]
  },
  {
   "cell_type": "code",
   "execution_count": 66,
   "metadata": {},
   "outputs": [],
   "source": [
    "dict_map = {  # Converison map\n",
    "            (0, 0): 'C',\n",
    "            (0, 1): 'A',\n",
    "            (1, 0): 'T',\n",
    "            (1, 1): 'G'\n",
    "        }"
   ]
  },
  {
   "cell_type": "code",
   "execution_count": 67,
   "metadata": {},
   "outputs": [],
   "source": [
    "def file_to_binary_string(file_path):\n",
    "    with open(file_path, 'rb') as file:\n",
    "        binary_data = file.read()\n",
    "    # Convert each byte to an 8-bit binary representation and join them\n",
    "    binary_string = ''.join(f'{byte:08b}' for byte in binary_data)\n",
    "    return binary_string"
   ]
  },
  {
   "cell_type": "code",
   "execution_count": 68,
   "metadata": {},
   "outputs": [],
   "source": [
    "def binary_string_to_file(binary_string, output_path):\n",
    "    # Convert the binary string back to bytes\n",
    "    byte_data = int(binary_string, 2).to_bytes((len(binary_string) + 7) // 8, byteorder='big')\n",
    "    with open(output_path, 'wb') as file:\n",
    "        file.write(byte_data)"
   ]
  },
  {
   "cell_type": "code",
   "execution_count": 69,
   "metadata": {},
   "outputs": [],
   "source": [
    "# Convert file to binary\n",
    "file_path = \"/Users/gnbhavithran/Downloads/Quantifying_molecular_bias_in_DNA_data_storage.pdf\"  # Replace with your file path\n",
    "binary_data = file_to_binary_string(file_path)\n",
    "\n",
    "# # Save the binary data back to a file\n",
    "# output_path = \"DNA_code_output_1.png\"  # Replace with your output path\n",
    "# binary_string_to_file(binary_data, output_path)"
   ]
  },
  {
   "cell_type": "code",
   "execution_count": 70,
   "metadata": {},
   "outputs": [
    {
     "data": {
      "text/plain": [
       "22"
      ]
     },
     "execution_count": 70,
     "metadata": {},
     "output_type": "execute_result"
    }
   ],
   "source": [
    "n = 30  #going to encode in 14 length codeword\n",
    "binary_14_digit = vt.VTCode(n, 2, correct_substitutions=True)\n",
    "information_length = binary_14_digit.k -2\n",
    "information_length"
   ]
  },
  {
   "cell_type": "code",
   "execution_count": 71,
   "metadata": {},
   "outputs": [
    {
     "name": "stdout",
     "output_type": "stream",
     "text": [
      "[0, 0, 1, 0, 1, 0, 0, 0, 0, 0, 0, 0, 0, 0, 0, 0, 0, 0, 0, 0, 0, 0]\n"
     ]
    }
   ],
   "source": [
    "num_of_codewords_need_to_encode = int(np.ceil(len(binary_data)/information_length))\n",
    "\n",
    "DNA_code_pdf = []\n",
    "for batch in range(num_of_codewords_need_to_encode):\n",
    "  val = [int(x) for x in binary_data[batch * information_length: ((batch+1) * information_length)]] # seprating into small blocks\n",
    "  if len(val) != information_length:\n",
    "    val = val + [0] * (information_length - len(val))\n",
    "    print(val)\n",
    "  parity = val.count(1) % 2\n",
    "  value_kernel = [1] + val + [0] if parity else [1] + val + [1]\n",
    "  redundancy = [0] * information_length\n",
    "  \"\"\"\n",
    "        For the redundancy bit information bit is separated into 3 categories\n",
    "  \"\"\"\n",
    "  redundancy[:int(np.floor((information_length - 1) / 2))] = value_kernel[:int(np.floor((information_length - 1) / 2))]\n",
    "  redundancy_last_half = [(what + 1) % 2 for what in value_kernel[int(np.ceil((information_length - 1) / 2)):]]\n",
    "  redundancy[int(np.ceil((information_length - 1) / 2)):] = redundancy_last_half\n",
    "  if (information_length - 1) // 2:\n",
    "    redundancy[int((information_length - 1) / 2)] = value_kernel[int((information_length - 1) / 2)] if parity else (1 + value_kernel[\n",
    "                int((information_length - 1) / 2)]) % 2\n",
    "\n",
    "  encoded_vt = binary_14_digit.encode(value_kernel)\n",
    "  redundancy_enc = binary_14_digit.encode(redundancy)\n",
    "\n",
    "  iter_val = tuple(zip(tuple(encoded_vt), tuple(redundancy_enc)))\n",
    "\n",
    "  DNA_codeword = [dict_map[vals]for vals in iter_val]\n",
    "  DNA_codeword_str = ''.join(DNA_codeword)\n",
    "  DNA_code_pdf.append(DNA_codeword_str)"
   ]
  },
  {
   "cell_type": "code",
   "execution_count": 72,
   "metadata": {},
   "outputs": [],
   "source": [
    "import random\n",
    "\n",
    "def introduce_dna_errors(codewords, error_prob=0.02):\n",
    "    # Define possible DNA bases\n",
    "    dna_bases = ['A', 'T', 'G', 'C']\n",
    "    \n",
    "    modified_codewords = []\n",
    "    \n",
    "    for word in codewords:\n",
    "        modified_word = []\n",
    "        \n",
    "        for base in word:\n",
    "            if random.random() < error_prob:\n",
    "                error_type = random.choice(['insert', 'delete', 'substitute'])\n",
    "                \n",
    "                if error_type == 'insert':\n",
    "                    # Insert a random DNA base before the current base\n",
    "                    modified_word.append(random.choice(dna_bases))\n",
    "                    modified_word.append(base)\n",
    "                elif error_type == 'delete':\n",
    "                    # Skip the current base to delete it\n",
    "                    continue\n",
    "                elif error_type == 'substitute':\n",
    "                    # Substitute with a random base different from the current one\n",
    "                    new_base = random.choice([b for b in dna_bases if b != base])\n",
    "                    modified_word.append(new_base)\n",
    "            else:\n",
    "                # No error, append the original base\n",
    "                modified_word.append(base)\n",
    "        \n",
    "        # Join the modified characters to form the modified codeword\n",
    "        modified_codewords.append(\"\".join(modified_word))\n",
    "    \n",
    "    return modified_codewords\n",
    "\n",
    "# Example usage\n",
    "result = introduce_dna_errors(DNA_code_pdf, error_prob=1/105)\n",
    "# print(\"Original codewords:\", codewords)\n",
    "# print(\"Modified codewords:\", result)"
   ]
  },
  {
   "cell_type": "code",
   "execution_count": 73,
   "metadata": {},
   "outputs": [],
   "source": [
    "def count_differences(str1, str2):\n",
    "    # Check if strings are of equal length\n",
    "    if len(str1) != len(str2):\n",
    "        raise ValueError(\"Strings must be of the same length to compare positions.\")\n",
    "    \n",
    "    # Count differing positions\n",
    "    differences = sum(1 for a, b in zip(str1, str2) if a != b)\n",
    "    return differences"
   ]
  },
  {
   "cell_type": "code",
   "execution_count": 74,
   "metadata": {},
   "outputs": [
    {
     "data": {
      "text/plain": [
       "872160"
      ]
     },
     "execution_count": 74,
     "metadata": {},
     "output_type": "execute_result"
    }
   ],
   "source": [
    "len(result)"
   ]
  },
  {
   "cell_type": "code",
   "execution_count": 75,
   "metadata": {},
   "outputs": [],
   "source": [
    "decode_map ={\n",
    "  'G' : 1,\n",
    "  'C' : 0,\n",
    "  'A' : 0,\n",
    "  'T' : 1\n",
    "}"
   ]
  },
  {
   "cell_type": "code",
   "execution_count": 76,
   "metadata": {},
   "outputs": [],
   "source": [
    "binary_data_reconstruction = ''\n",
    "j = 0\n",
    "result_1 = 0\n",
    "for i, code_words in enumerate(result):\n",
    "  binary_conversion_from_codeword = [decode_map[words] for words in code_words]\n",
    "  Vt_decoding = binary_14_digit.decode(binary_conversion_from_codeword)\n",
    "  if Vt_decoding is None:\n",
    "    j += 1\n",
    "    continue\n",
    "  Kernel_decoding = ''.join(map(str, Vt_decoding[1:-1]))\n",
    "  binary_data_reconstruction = binary_data_reconstruction + Kernel_decoding\n",
    "  if len(Kernel_decoding) != len(binary_data[i* information_length: (i+1)*information_length]):\n",
    "    j+=1\n",
    "    continue\n",
    "  result_1 += count_differences(binary_data[i* information_length: (i+1)*information_length], Kernel_decoding)\n",
    "  # if binary_data[i*information_length: (i+1)*information_length] != Kernel_decoding:\n",
    "    # binary_data_reconstruction = binary_data_reconstruction[:len(binary_data)]"
   ]
  },
  {
   "cell_type": "code",
   "execution_count": 77,
   "metadata": {},
   "outputs": [
    {
     "data": {
      "text/plain": [
       "18815322"
      ]
     },
     "execution_count": 77,
     "metadata": {},
     "output_type": "execute_result"
    }
   ],
   "source": [
    "len(binary_data) - (result_1 + (j*information_length))\n"
   ]
  },
  {
   "cell_type": "code",
   "execution_count": 78,
   "metadata": {},
   "outputs": [
    {
     "data": {
      "text/plain": [
       "0.9806028965518392"
      ]
     },
     "execution_count": 78,
     "metadata": {},
     "output_type": "execute_result"
    }
   ],
   "source": [
    "18815322/len(binary_data)"
   ]
  },
  {
   "cell_type": "code",
   "execution_count": 79,
   "metadata": {},
   "outputs": [],
   "source": [
    "import pandas as pd\n",
    "\n",
    "# Processing and encoding the binary file\n",
    "different_code_word_length = [15, 30, 45, 60, 75]  #going to encode in 14 length codeword\n",
    "# error_rates = [0.01, 0.02, 0.03, 0.05] # Putting different error rates\n",
    "error_rates = [0.01, 0.02, 0.03, 0.05, 0.07, 0.10, 0.15] # Putting different error rates\n",
    "\n",
    "# Create an empty DataFrame with n_values as index and error_rates as columns\n",
    "df = pd.DataFrame(index=different_code_word_length, columns=error_rates)"
   ]
  },
  {
   "cell_type": "code",
   "execution_count": 81,
   "metadata": {},
   "outputs": [
    {
     "data": {
      "text/html": [
       "<div>\n",
       "<style scoped>\n",
       "    .dataframe tbody tr th:only-of-type {\n",
       "        vertical-align: middle;\n",
       "    }\n",
       "\n",
       "    .dataframe tbody tr th {\n",
       "        vertical-align: top;\n",
       "    }\n",
       "\n",
       "    .dataframe thead th {\n",
       "        text-align: right;\n",
       "    }\n",
       "</style>\n",
       "<table border=\"1\" class=\"dataframe\">\n",
       "  <thead>\n",
       "    <tr style=\"text-align: right;\">\n",
       "      <th></th>\n",
       "      <th>0.01</th>\n",
       "      <th>0.02</th>\n",
       "      <th>0.03</th>\n",
       "      <th>0.05</th>\n",
       "      <th>0.07</th>\n",
       "      <th>0.10</th>\n",
       "      <th>0.15</th>\n",
       "    </tr>\n",
       "  </thead>\n",
       "  <tbody>\n",
       "    <tr>\n",
       "      <th>15</th>\n",
       "      <td>1</td>\n",
       "      <td>NaN</td>\n",
       "      <td>NaN</td>\n",
       "      <td>NaN</td>\n",
       "      <td>NaN</td>\n",
       "      <td>NaN</td>\n",
       "      <td>NaN</td>\n",
       "    </tr>\n",
       "    <tr>\n",
       "      <th>30</th>\n",
       "      <td>NaN</td>\n",
       "      <td>NaN</td>\n",
       "      <td>NaN</td>\n",
       "      <td>NaN</td>\n",
       "      <td>NaN</td>\n",
       "      <td>NaN</td>\n",
       "      <td>NaN</td>\n",
       "    </tr>\n",
       "    <tr>\n",
       "      <th>45</th>\n",
       "      <td>NaN</td>\n",
       "      <td>NaN</td>\n",
       "      <td>NaN</td>\n",
       "      <td>NaN</td>\n",
       "      <td>NaN</td>\n",
       "      <td>NaN</td>\n",
       "      <td>NaN</td>\n",
       "    </tr>\n",
       "    <tr>\n",
       "      <th>60</th>\n",
       "      <td>NaN</td>\n",
       "      <td>NaN</td>\n",
       "      <td>NaN</td>\n",
       "      <td>NaN</td>\n",
       "      <td>NaN</td>\n",
       "      <td>NaN</td>\n",
       "      <td>NaN</td>\n",
       "    </tr>\n",
       "    <tr>\n",
       "      <th>75</th>\n",
       "      <td>NaN</td>\n",
       "      <td>NaN</td>\n",
       "      <td>NaN</td>\n",
       "      <td>NaN</td>\n",
       "      <td>NaN</td>\n",
       "      <td>NaN</td>\n",
       "      <td>NaN</td>\n",
       "    </tr>\n",
       "  </tbody>\n",
       "</table>\n",
       "</div>"
      ],
      "text/plain": [
       "   0.01 0.02 0.03 0.05 0.07 0.10 0.15\n",
       "15    1  NaN  NaN  NaN  NaN  NaN  NaN\n",
       "30  NaN  NaN  NaN  NaN  NaN  NaN  NaN\n",
       "45  NaN  NaN  NaN  NaN  NaN  NaN  NaN\n",
       "60  NaN  NaN  NaN  NaN  NaN  NaN  NaN\n",
       "75  NaN  NaN  NaN  NaN  NaN  NaN  NaN"
      ]
     },
     "execution_count": 81,
     "metadata": {},
     "output_type": "execute_result"
    }
   ],
   "source": [
    "df.at[15, 0.01] = 1\n",
    "df"
   ]
  },
  {
   "cell_type": "code",
   "execution_count": null,
   "metadata": {},
   "outputs": [],
   "source": []
  }
 ],
 "metadata": {
  "kernelspec": {
   "display_name": "VT_codes",
   "language": "python",
   "name": "python3"
  },
  "language_info": {
   "codemirror_mode": {
    "name": "ipython",
    "version": 3
   },
   "file_extension": ".py",
   "mimetype": "text/x-python",
   "name": "python",
   "nbconvert_exporter": "python",
   "pygments_lexer": "ipython3",
   "version": "3.10.12"
  },
  "orig_nbformat": 4
 },
 "nbformat": 4,
 "nbformat_minor": 2
}
