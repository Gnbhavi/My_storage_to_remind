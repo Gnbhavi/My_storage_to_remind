{
 "cells": [
  {
   "cell_type": "markdown",
   "metadata": {},
   "source": [
    "# Converting a pdf into DNA code words"
   ]
  },
  {
   "cell_type": "code",
   "execution_count": 30,
   "metadata": {},
   "outputs": [],
   "source": [
    "import numpy as np\n",
    "# from asyncore import read\n",
    "import PyPDF2 \n",
    "data = open(\"/Users/gnbhavithran/Desktop/AEJM-S-22-00711.pdf\", 'rb')\n",
    "f = open(\"/Users/gnbhavithran/Desktop/Indel_error1s.pdf\", 'w')\n",
    "data_pdf = PyPDF2.PdfFileReader(data)"
   ]
  },
  {
   "cell_type": "code",
   "execution_count": 8,
   "metadata": {},
   "outputs": [],
   "source": [
    "import vtcode as vt\n",
    "import Kernel_code as kc"
   ]
  },
  {
   "cell_type": "code",
   "execution_count": 9,
   "metadata": {},
   "outputs": [],
   "source": [
    "n = 14\n",
    "binary_14_digit = vt.VTCode(n, 2, correct_substitutions=True)"
   ]
  },
  {
   "cell_type": "code",
   "execution_count": 10,
   "metadata": {},
   "outputs": [],
   "source": [
    "length = binary_14_digit.k"
   ]
  },
  {
   "cell_type": "code",
   "execution_count": 52,
   "metadata": {},
   "outputs": [],
   "source": [
    "data_pdf_bin =[''] * data_pdf.numPages\n",
    "DNA_encoded_pdf = [''] * data_pdf.numPages\n",
    "for idx, i in enumerate(data_pdf.pages):\n",
    "    what_it_is = i.extract_text().encode('UTF-8')\n",
    "    data_pdf_bin[idx] = []\n",
    "    DNA_encoded_pdf[idx] = []\n",
    "    for j in what_it_is:\n",
    "        val = list(np.binary_repr(j, length))\n",
    "        val = [int(x) for x in val]\n",
    "        data_pdf_bin[idx].append(val)\n",
    "        encode_word = binary_14_digit.encode(val)\n",
    "        DNA_encoded_pdf[idx].append(encode_word)"
   ]
  },
  {
   "cell_type": "code",
   "execution_count": 69,
   "metadata": {},
   "outputs": [],
   "source": [
    "sum = 0\n",
    "pdf_rebulding = [''] * data_pdf.numPages\n",
    "\n",
    "for idx, i in enumerate(DNA_encoded_pdf):\n",
    "    pdf_rebulding[idx] = []\n",
    "    for things in DNA_encoded_pdf[idx]:\n",
    "        decode_val = binary_14_digit.decode(things)\n",
    "        decode_val_decimal = int(\"\".join(str(i) for i in decode_val),2)\n",
    "        pdf_rebulding[idx].append(decode_val_decimal)"
   ]
  },
  {
   "cell_type": "code",
   "execution_count": 82,
   "metadata": {},
   "outputs": [],
   "source": [
    "for i in range(data_pdf.numPages):\n",
    "    comparison_value_orginal = data_pdf.pages[i].extract_text().encode('UTF-8')\n",
    "    for j in range(len(pdf_rebulding[i])):\n",
    "        if pdf_rebulding[i][j] != comparison_value_orginal[j]:\n",
    "            print(i)\n",
    "            print(pdf_rebulding[i][j])\n",
    "            print(comparison_value_orginal[j])\n",
    "            print(\"Idiot!\")\n",
    "            break"
   ]
  },
  {
   "cell_type": "code",
   "execution_count": 91,
   "metadata": {},
   "outputs": [],
   "source": [
    "pdf_str_rebulding =[''] * len(pdf_rebulding)\n",
    "for i in range(len(pdf_rebulding)):\n",
    "    pdf_str_rebulding[i] = []\n",
    "    for j in range(len(pdf_rebulding[i])):\n",
    "        pdf_str_rebulding[i].append(chr(pdf_rebulding[i][j]))"
   ]
  },
  {
   "cell_type": "code",
   "execution_count": 96,
   "metadata": {},
   "outputs": [
    {
     "data": {
      "text/plain": [
       "list"
      ]
     },
     "execution_count": 96,
     "metadata": {},
     "output_type": "execute_result"
    }
   ],
   "source": [
    "type(pdf_str_rebulding[1])"
   ]
  },
  {
   "cell_type": "code",
   "execution_count": 93,
   "metadata": {},
   "outputs": [
    {
     "data": {
      "text/plain": [
       "'c'"
      ]
     },
     "execution_count": 93,
     "metadata": {},
     "output_type": "execute_result"
    }
   ],
   "source": [
    "data_pdf.pages[1].extract_text()[1]"
   ]
  },
  {
   "cell_type": "code",
   "execution_count": 94,
   "metadata": {},
   "outputs": [],
   "source": [
    "from PyPDF2 import PdfFileWriter as w\n",
    "pdf=w()\n",
    "file=open(\"/Users/gnbhavithran/Desktop/Indel_error1s.pdf\",\"wb\")\n"
   ]
  },
  {
   "cell_type": "code",
   "execution_count": 114,
   "metadata": {},
   "outputs": [],
   "source": [
    "k = []\n",
    "for what in data_pdf.pages:\n",
    "    k.append(what.extract_text().encode('UTF-8'))"
   ]
  },
  {
   "cell_type": "code",
   "execution_count": 122,
   "metadata": {},
   "outputs": [
    {
     "data": {
      "text/plain": [
       "79"
      ]
     },
     "execution_count": 122,
     "metadata": {},
     "output_type": "execute_result"
    }
   ],
   "source": [
    "k[1][0]"
   ]
  },
  {
   "cell_type": "code",
   "execution_count": 123,
   "metadata": {},
   "outputs": [],
   "source": [
    "h =[]\n",
    "for i in pdf_rebulding:\n",
    "    h.append(i)"
   ]
  },
  {
   "cell_type": "code",
   "execution_count": 124,
   "metadata": {},
   "outputs": [
    {
     "data": {
      "text/plain": [
       "79"
      ]
     },
     "execution_count": 124,
     "metadata": {},
     "output_type": "execute_result"
    }
   ],
   "source": [
    "h[1][0]"
   ]
  },
  {
   "cell_type": "code",
   "execution_count": 125,
   "metadata": {},
   "outputs": [
    {
     "data": {
      "text/plain": [
       "str"
      ]
     },
     "execution_count": 125,
     "metadata": {},
     "output_type": "execute_result"
    }
   ],
   "source": [
    "type(data_pdf.pages[1].extract_text())"
   ]
  },
  {
   "cell_type": "code",
   "execution_count": null,
   "metadata": {},
   "outputs": [],
   "source": []
  }
 ],
 "metadata": {
  "kernelspec": {
   "display_name": "Python 3.10.4 ('VT_codes')",
   "language": "python",
   "name": "python3"
  },
  "language_info": {
   "codemirror_mode": {
    "name": "ipython",
    "version": 3
   },
   "file_extension": ".py",
   "mimetype": "text/x-python",
   "name": "python",
   "nbconvert_exporter": "python",
   "pygments_lexer": "ipython3",
   "version": "3.10.4"
  },
  "orig_nbformat": 4,
  "vscode": {
   "interpreter": {
    "hash": "fcc023a810c2e078fe4d68b667d62a5ee481e63300fcb38f676e5ada71cb3e0c"
   }
  }
 },
 "nbformat": 4,
 "nbformat_minor": 2
}
