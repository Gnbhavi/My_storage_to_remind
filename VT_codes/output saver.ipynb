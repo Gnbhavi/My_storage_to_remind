{
 "cells": [
  {
   "cell_type": "code",
   "execution_count": 1,
   "metadata": {},
   "outputs": [],
   "source": [
    "%load_ext autoreload\n",
    "%autoreload 2"
   ]
  },
  {
   "cell_type": "code",
   "execution_count": 2,
   "metadata": {},
   "outputs": [],
   "source": [
    "import vtcode_copy as vt\n",
    "import Kernel_code as kc\n",
    "import numpy as np\n",
    "import pandas as pd\n",
    "import itertools\n",
    "\n",
    "Kernel = kc.Kernel_codes()\n",
    "\n",
    "# for n in range(12, 13):\n",
    "# for n in range(7, 22):  \n",
    "n = 12\n",
    "binary_10_digit = vt.VTCode(n, 2, correct_substitutions=True)\n",
    "length = binary_10_digit.k\n",
    "length_before_kr = length-2\n",
    "binary_rep = []\n",
    "binary_str_rep = []\n",
    "kerenel_val = []\n",
    "kerenel_str_val = []\n",
    "redundancy_val = []\n",
    "vt_total_encode =[]\n",
    "concatenated_kernel_encode_str =[]\n",
    "DNa_code_str = []\n",
    "\n",
    "  # m = 2 * n + 1\n",
    "\n",
    "dict_map2 = {  # conversion map\n",
    "            (0, 0): 'G',\n",
    "            (0, 1): 'T',\n",
    "            (1, 0): 'A',\n",
    "            (1, 1): 'C'\n",
    "        }\n",
    "dict_map = {  # reverse construction map\n",
    "            (0, 0): 'C',\n",
    "            (0, 1): 'A',\n",
    "            (1, 0): 'T',\n",
    "            (1, 1): 'G'\n",
    "        }\n",
    "\n",
    "\n",
    "  \n",
    "vt_encoded_val = []\n",
    "redundancy_val = []\n",
    "reversed_code = []\n",
    "syndrome_val = []\n",
    "DNA_code = []\n",
    "\n",
    "for i in range(2**length_before_kr):\n",
    "  binary_str_rep.append(np.binary_repr(i, length_before_kr))\n",
    "  val = list(np.binary_repr(i, length_before_kr))\n",
    "  val = [int(x) for x in val]  # Converting the binary string to list into binary list\n",
    "  parity = val.count(1) % 2\n",
    "  value_kernel = [1] + val + [0] if parity else [1] + val + [1]\n",
    "\n",
    "  redundancy = [0] * length\n",
    "\n",
    "  \n",
    "\n",
    "  \"\"\"\n",
    "        For the redundancy bit information bit is separated into 3 categories\n",
    "  \"\"\"\n",
    "  redundancy[:int(np.floor((length - 1) / 2))] = value_kernel[:int(np.floor((length - 1) / 2))]\n",
    "  hell = [(what + 1) % 2 for what in value_kernel[int(np.ceil((length - 1) / 2)):]]\n",
    "  redundancy[int(np.ceil((length - 1) / 2)):] = hell\n",
    "  if (length - 1) // 2:\n",
    "    redundancy[int((length - 1) / 2)] = value_kernel[int((length - 1) / 2)] if parity else (1 + value_kernel[\n",
    "                int((length - 1) / 2)]) % 2\n",
    "  \n",
    "  encoded_vt = binary_10_digit.encode(value_kernel)\n",
    "  redundancy_enc = binary_10_digit.encode(redundancy)\n",
    "\n",
    "\n",
    "  binary_rep.append(val)\n",
    "  kerenel_val.append(value_kernel)\n",
    "  kerenel_str_val.append(''.join(map(str, value_kernel)))\n",
    "  vt_encoded_val.append(encoded_vt)\n",
    "\n",
    "  redundancy_val.append(redundancy_enc)\n",
    "  vt_total_encode.append(np.append(encoded_vt , redundancy_enc))\n",
    "\n",
    "  concatenated_kernel_encode_str.append(''.join(map(str, encoded_vt)) + ''.join(map(str, redundancy_enc)))\n",
    "\n",
    "\n",
    "  iter_val = tuple(zip(encoded_vt, redundancy_enc))\n",
    "\n",
    "  value = [dict_map2[element] for element in iter_val]  # reverse value is being stored for later use\n",
    "\n",
    "\n",
    "  DNA_codeword = [dict_map[vals]for vals in iter_val]\n",
    "\n",
    "  reversed_code.append(value[::-1])\n",
    "\n",
    "  DNA_code.append(DNA_codeword)\n",
    "  DNa_code_str.append(\"\".join(DNA_codeword))\n",
    "\n",
    "  syndrome_val.append(binary_10_digit._is_codeword_new(np.array(redundancy_enc)))\n",
    "  \n",
    "# Gc_content = [(elements.count('G') + elements.count('C'))/n for elements in DNA_code]\n",
    "hello = pd.DataFrame([binary_rep, kerenel_val])\n",
    "# hello_ = pd.DataFrame([binary_str_rep, kerenel_str_val])\n",
    "hello1 = pd.DataFrame([vt_encoded_val, redundancy_val, DNA_code])\n",
    "# hello = pd.DataFrame([vt_encoded_val, redundancy_val, DNA_code, Gc_content, syndrome_val])\n",
    "hello = hello.transpose()\n",
    "# hello_ = hello_.transpose()\n",
    "hello1 = hello1.transpose()\n",
    "# hello.columns= [' DNA']\n",
    "hello.columns= ['Binary data', 'Kernel encode']\n",
    "hello1.columns = ['VT encode', '', 'DNA code']\n",
    "hello_= {'Binary data': binary_str_rep, 'Kernel encoding': kerenel_str_val, 'Outer encoding(VT code)': concatenated_kernel_encode_str, 'DNA code': DNa_code_str}\n",
    "hello1_= {'Outer encoding(VT code)': concatenated_kernel_encode_str, 'DNA code': DNa_code_str}\n",
    "# print(hello)\n",
    "# print(hello1)\n",
    "# hello_.reset_index(drop=True, inplace=True)\n"
   ]
  },
  {
   "cell_type": "code",
   "execution_count": 24,
   "metadata": {},
   "outputs": [
    {
     "name": "stdout",
     "output_type": "stream",
     "text": [
      "Colorful DataFrame saved as colorful_table.png\n"
     ]
    }
   ],
   "source": [
    "from Image_from_df import ColorfulTableGenerator\n",
    "\n",
    "# Sample DataFrame\n",
    "data = {\n",
    "    \"Column 1\": [1, 2, 3],\n",
    "    \"Column 2\": [4, 5, 6],\n",
    "    \"Column 3\": [7, 8, 9]\n",
    "}\n",
    "\n",
    "# # Create an instance of the generator\n",
    "table_generator = ColorfulTableGenerator(hello_, fixed_colors=(0, 0.47, 1), font_size=12)\n",
    "\n",
    "# # Generate the colorful table\n",
    "\n",
    "\n",
    "table_generator.generate_colorful_table()"
   ]
  },
  {
   "cell_type": "code",
   "execution_count": 92,
   "metadata": {},
   "outputs": [
    {
     "data": {
      "text/plain": [
       "[0.45599999999999996, 0.0048]"
      ]
     },
     "execution_count": 92,
     "metadata": {},
     "output_type": "execute_result"
    }
   ],
   "source": [
    "[0.48 /0.02 * 0.019, 0.24 * 0.02]"
   ]
  },
  {
   "cell_type": "code",
   "execution_count": 46,
   "metadata": {},
   "outputs": [
    {
     "name": "stdout",
     "output_type": "stream",
     "text": [
      "00000\n",
      "11111\n"
     ]
    }
   ],
   "source": [
    "block_size = 5  # Or any desired length that fits both strings\n",
    "\n",
    "string1 = '00000'\n",
    "string2 = '11111'\n",
    "# Right-justify the second string with padding, if needed\n",
    "string1 = string1.ljust(block_size)\n",
    "string2 = string2.rjust(block_size)\n",
    "\n",
    "print(f\"{string1}\\n{string2}\")"
   ]
  },
  {
   "cell_type": "code",
   "execution_count": 47,
   "metadata": {},
   "outputs": [
    {
     "name": "stdout",
     "output_type": "stream",
     "text": [
      "00000\n",
      "11111\n"
     ]
    }
   ],
   "source": [
    "print(string1)\n",
    "print(string2)"
   ]
  },
  {
   "cell_type": "code",
   "execution_count": 55,
   "metadata": {},
   "outputs": [
    {
     "data": {
      "text/plain": [
       "(0.65234375, 0.13671875, 0.171875)"
      ]
     },
     "execution_count": 55,
     "metadata": {},
     "output_type": "execute_result"
    }
   ],
   "source": [
    "(167/256, 35/256, 44/256)"
   ]
  },
  {
   "cell_type": "code",
   "execution_count": null,
   "metadata": {},
   "outputs": [],
   "source": []
  }
 ],
 "metadata": {
  "kernelspec": {
   "display_name": "VT_codes",
   "language": "python",
   "name": "python3"
  },
  "language_info": {
   "codemirror_mode": {
    "name": "ipython",
    "version": 3
   },
   "file_extension": ".py",
   "mimetype": "text/x-python",
   "name": "python",
   "nbconvert_exporter": "python",
   "pygments_lexer": "ipython3",
   "version": "3.10.12"
  }
 },
 "nbformat": 4,
 "nbformat_minor": 2
}
