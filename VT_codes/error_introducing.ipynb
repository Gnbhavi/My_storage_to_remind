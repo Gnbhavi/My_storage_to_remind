{
 "cells": [
  {
   "cell_type": "code",
   "execution_count": 12,
   "metadata": {},
   "outputs": [
    {
     "name": "stdout",
     "output_type": "stream",
     "text": [
      "Original codewords: ['AATGC', 'TTGCA', 'GCCAT']\n",
      "Modified codewords: ['AACGC', 'TTGAA', 'GCCAT']\n"
     ]
    }
   ],
   "source": [
    "import random\n",
    "\n",
    "def introduce_dna_errors(codewords, error_prob=0.01):\n",
    "    # Define possible DNA bases\n",
    "    dna_bases = ['A', 'T', 'G', 'C']\n",
    "    \n",
    "    modified_codewords = []\n",
    "    \n",
    "    for word in codewords:\n",
    "        modified_word = []\n",
    "        \n",
    "        for base in word:\n",
    "            if random.random() < error_prob:\n",
    "                error_type = random.choice(['insert', 'delete', 'substitute'])\n",
    "                \n",
    "                if error_type == 'insert':\n",
    "                    # Insert a random DNA base before the current base\n",
    "                    modified_word.append(random.choice(dna_bases))\n",
    "                    modified_word.append(base)\n",
    "                elif error_type == 'delete':\n",
    "                    # Skip the current base to delete it\n",
    "                    continue\n",
    "                elif error_type == 'substitute':\n",
    "                    # Substitute with a random base different from the current one\n",
    "                    new_base = random.choice([b for b in dna_bases if b != base])\n",
    "                    modified_word.append(new_base)\n",
    "            else:\n",
    "                # No error, append the original base\n",
    "                modified_word.append(base)\n",
    "        \n",
    "        # Join the modified characters to form the modified codeword\n",
    "        modified_codewords.append(\"\".join(modified_word))\n",
    "    \n",
    "    return modified_codewords\n",
    "\n",
    "# Example usage\n",
    "codewords = [\"AATGC\", \"TTGCA\", \"GCCAT\"]\n",
    "result = introduce_dna_errors(codewords, error_prob=0.2)\n",
    "print(\"Original codewords:\", codewords)\n",
    "print(\"Modified codewords:\", result)"
   ]
  },
  {
   "cell_type": "code",
   "execution_count": 13,
   "metadata": {},
   "outputs": [
    {
     "name": "stdout",
     "output_type": "stream",
     "text": [
      "Number of differing positions: 1\n"
     ]
    }
   ],
   "source": [
    "def count_differences(str1, str2):\n",
    "    # Check if strings are of equal length\n",
    "    if len(str1) != len(str2):\n",
    "        raise ValueError(\"Strings must be of the same length to compare positions.\")\n",
    "    \n",
    "    # Count differing positions\n",
    "    differences = sum(1 for a, b in zip(str1, str2) if a != b)\n",
    "    return differences\n",
    "\n",
    "# Example usage\n",
    "string1 = \"AATGCC\"\n",
    "string2 = \"AATGCA\"\n",
    "result = count_differences(string1, string2)\n",
    "print(f\"Number of differing positions: {result}\")"
   ]
  },
  {
   "cell_type": "code",
   "execution_count": 14,
   "metadata": {},
   "outputs": [
    {
     "name": "stdout",
     "output_type": "stream",
     "text": [
      "Original codewords: ['GTTGCTCGCATGATTTACCAGCATTCATTAAGAGCGGGACTTTCGTGCCCGTATGTGGTTGGTTTCTAGAGGAATCGGAGAAGGGGTACGAAACGGTCTT', 'GTGTAAAGGCGGCCAAATTTAGGCAGGAGACCTATCATCCCAGTGTTTACCATCTAATGAGTGGATCTTCGACCCAGCAGTGACACTTGCTCATCAGCGC', 'TTAGGTGGTTTTAATACTGGTGGCCGCTCGAACCATGTGCCCAAACTTTGATTCGACATCAGGAAGGCGACTGACACTTGGGGTTCGGAGGGCATGGCTA', 'CTGGGACGCAGCGATAAGAGCTATCGCCGTAATAGACCTTGACCGTATGGAAAAGCAAAAAACGTCCGGTCCTTGAGGACACTCATCGAGATCGGCGAAC', 'ACTGTTCCCGAGAGAGAATAGGATAATAGTCCCCGCTAGGAAGTTCCTAATGCGTTCCTTAGGCAGATGCTAGTCGTTGCACGCCATTTAGTCGCGGCAA']\n",
      "Modified codewords: ['GTTGCTCGCATGATTTACCAGCATTCATTAAGAGCGGGACTTTCGTGCCCGTATGTGGTTGGTTTCTAGAGGAATCGGAGAAGGGGTACGAAACGGTCTT', 'GTGTAAAGGCGGCCAAATTTAGGCAGGAGACCTATCATCCCAGTGTTTACCATCTAATGAGTGGATCTTCGACCCAGCAGTGACACTGCTCATCAAGCGC', 'TTAGGTGGTTTTAATACCTGGTGGCCGCTCGAACCATGTGCACCAAACCTTTGATTCGACATCAGGAAGGCGACTGACACTTGGGGTTCGGAGGGCATGGCTA', 'CTGGGACGCAGCGATAAGAGCTATCGCCGTAATAGACCTTGACCGTATGGAAAAGCAAAAAACGTCCGGTCCTTGAGGACACTCGTCGAGTTCGGCGAAC', 'ACTGTTCCCGAGAGAGAATAGGATAATAGTCCCCGCTAGGAAGTTCCTAATGCGTTCCTTAGGCAGATGCTAGTCGTTGCACGCCATTAGTCGCGGCAA']\n"
     ]
    }
   ],
   "source": [
    "import random\n",
    "\n",
    "def introduce_sparse_errors(codewords, error_prob=1/104):\n",
    "    # Define possible DNA bases\n",
    "    dna_bases = ['A', 'T', 'G', 'C']\n",
    "    \n",
    "    modified_codewords = []\n",
    "    \n",
    "    for word in codewords:\n",
    "        modified_word = []\n",
    "        \n",
    "        for base in word:\n",
    "            # Decide whether to introduce an error based on the probability\n",
    "            if random.random() < error_prob:\n",
    "                error_type = random.choice(['insert', 'delete', 'substitute'])\n",
    "                \n",
    "                if error_type == 'insert':\n",
    "                    # Insert a random base\n",
    "                    modified_word.append(random.choice(dna_bases))\n",
    "                    modified_word.append(base)\n",
    "                elif error_type == 'delete':\n",
    "                    # Skip the current base to delete it\n",
    "                    continue\n",
    "                elif error_type == 'substitute':\n",
    "                    # Substitute with a random base different from the current one\n",
    "                    new_base = random.choice([b for b in dna_bases if b != base])\n",
    "                    modified_word.append(new_base)\n",
    "            else:\n",
    "                # No error, append the original base\n",
    "                modified_word.append(base)\n",
    "        \n",
    "        # Join the modified characters to form the modified codeword\n",
    "        modified_codewords.append(\"\".join(modified_word))\n",
    "    \n",
    "    return modified_codewords\n",
    "\n",
    "# Example usage\n",
    "# Generating a list of 200 DNA codewords, each of length 100\n",
    "codewords = [\"\".join(random.choices(['A', 'T', 'G', 'C'], k=100)) for _ in range(200)]\n",
    "\n",
    "# Apply errors with the approximate rate of every 104-105 nucleotides\n",
    "result = introduce_sparse_errors(codewords, error_prob=1/104)\n",
    "print(\"Original codewords:\", codewords[:5])  # Display first 5 for brevity\n",
    "print(\"Modified codewords:\", result[:5])     # Display first 5 for brevity"
   ]
  },
  {
   "cell_type": "code",
   "execution_count": 20,
   "metadata": {},
   "outputs": [
    {
     "data": {
      "text/plain": [
       "100"
      ]
     },
     "execution_count": 20,
     "metadata": {},
     "output_type": "execute_result"
    }
   ],
   "source": [
    "len(codewords[1])"
   ]
  },
  {
   "cell_type": "code",
   "execution_count": 21,
   "metadata": {},
   "outputs": [
    {
     "data": {
      "text/plain": [
       "100"
      ]
     },
     "execution_count": 21,
     "metadata": {},
     "output_type": "execute_result"
    }
   ],
   "source": [
    "len(result[1])"
   ]
  },
  {
   "cell_type": "code",
   "execution_count": null,
   "metadata": {},
   "outputs": [],
   "source": []
  }
 ],
 "metadata": {
  "kernelspec": {
   "display_name": "VT_codes",
   "language": "python",
   "name": "python3"
  },
  "language_info": {
   "codemirror_mode": {
    "name": "ipython",
    "version": 3
   },
   "file_extension": ".py",
   "mimetype": "text/x-python",
   "name": "python",
   "nbconvert_exporter": "python",
   "pygments_lexer": "ipython3",
   "version": "3.10.12"
  }
 },
 "nbformat": 4,
 "nbformat_minor": 2
}
