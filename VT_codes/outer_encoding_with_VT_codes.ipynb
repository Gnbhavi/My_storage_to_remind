{
 "cells": [
  {
   "cell_type": "code",
   "execution_count": 1,
   "metadata": {},
   "outputs": [],
   "source": [
    "import vtcode_copy as vt\n",
    "import Kernel_code as kc\n",
    "import numpy as np\n",
    "import pandas as pd\n",
    "import itertools"
   ]
  },
  {
   "cell_type": "code",
   "execution_count": 16,
   "metadata": {},
   "outputs": [],
   "source": [
    "Kernel = kc.Kernel_codes()\n",
    "\n",
    "# n = int(input(\"Enter the length of the codeword:\"))\n",
    "n = 10\n",
    "binary_10_digit = vt.VTCode(n, 2, correct_substitutions=True)\n",
    "length = binary_10_digit.k\n",
    "length_before_kr = length-2\n",
    "binary_rep = []\n",
    "kerenel_val = []\n",
    "redundancy_val = []"
   ]
  },
  {
   "cell_type": "code",
   "execution_count": 17,
   "metadata": {},
   "outputs": [
    {
     "data": {
      "text/plain": [
       "5"
      ]
     },
     "execution_count": 17,
     "metadata": {},
     "output_type": "execute_result"
    }
   ],
   "source": [
    "length"
   ]
  },
  {
   "cell_type": "code",
   "execution_count": 18,
   "metadata": {},
   "outputs": [
    {
     "data": {
      "text/plain": [
       "3.0"
      ]
     },
     "execution_count": 18,
     "metadata": {},
     "output_type": "execute_result"
    }
   ],
   "source": [
    "n - np.floor(np.log2(n - 1)) - 4"
   ]
  },
  {
   "cell_type": "code",
   "execution_count": 49,
   "metadata": {},
   "outputs": [
    {
     "data": {
      "text/plain": [
       "21"
      ]
     },
     "execution_count": 49,
     "metadata": {},
     "output_type": "execute_result"
    }
   ],
   "source": [
    "m = 2 * n + 1\n",
    "m"
   ]
  },
  {
   "cell_type": "code",
   "execution_count": 50,
   "metadata": {},
   "outputs": [],
   "source": [
    "dict_map = {  # conversion map\n",
    "            (0, 0): 'A',\n",
    "            (0, 1): 'C',\n",
    "            (1, 0): 'G',\n",
    "            (1, 1): 'T'\n",
    "        }"
   ]
  },
  {
   "cell_type": "code",
   "execution_count": 51,
   "metadata": {},
   "outputs": [],
   "source": [
    "dict_map2 = {  # conversion map\n",
    "            (0, 0): 'G',\n",
    "            (0, 1): 'T',\n",
    "            (1, 0): 'A',\n",
    "            (1, 1): 'C'\n",
    "        }"
   ]
  },
  {
   "cell_type": "code",
   "execution_count": 61,
   "metadata": {},
   "outputs": [],
   "source": [
    "vt_encoded_val = []\n",
    "redundancy_val = []\n",
    "syndrome_val = []\n",
    "DNA_code = []\n",
    "\n",
    "t = np.ceil(np.log2(n + 1)).astype(np.int64)\n",
    "\n",
    "parity_pos = [np.power(2, jk) for jk in range(t)]\n",
    "\n",
    "# for i in range(1):\n",
    "for i in range(2**length_before_kr):\n",
    "  val = list(np.binary_repr(i, length_before_kr))\n",
    "  val = [int(x) for x in val]  # Converting the binary string to list into binary list\n",
    "  parity = val.count(1) % 2\n",
    "  value_kernel = [1] + val + [0] if parity else [1] + val + [1]\n",
    "\n",
    "  redundancy = [0] * length\n",
    "\n",
    "  binary_rep.append(val)\n",
    "  kerenel_val.append(value_kernel)\n",
    "\n",
    "  \"\"\"\n",
    "        For the redundancy bit information bit is separated into 3 categories\n",
    "  \"\"\"\n",
    "  redundancy[:int(np.floor((length - 1) / 2))] = value_kernel[:int(np.floor((length - 1) / 2))]\n",
    "  hell = [(what + 1) % 2 for what in value_kernel[int(np.ceil((length - 1) / 2)):]]\n",
    "  redundancy[int(np.ceil((length - 1) / 2)):] = hell\n",
    "  if (length - 1) // 2:\n",
    "      redundancy[int((length - 1) / 2)] = value_kernel[int((length - 1) / 2)] if parity else (1 + value_kernel[\n",
    "                int((length - 1) / 2)]) % 2\n",
    "  \n",
    "  encoded_vt = binary_10_digit.encode(value_kernel)\n",
    "  redundancy_enc = binary_10_digit.encode(redundancy)\n",
    "  \n",
    "\n",
    "  vt_encoded_val.append(encoded_vt)\n",
    "\n",
    "  # encoded_vt_for_red = 1 - encoded_vt\n",
    "\n",
    "  # redundancy = [0] * len(encoded_vt)\n",
    "\n",
    "  # pos_val_thi = 0\n",
    "\n",
    "  # for kj in range(len(encoded_vt)):\n",
    "  #   if kj+1 not in parity_pos and pos_val_thi < length:\n",
    "  #     redundancy[kj] = encoded_vt[kj] \n",
    "\n",
    "  #     # if pos_val_thi < (length + 1)/2:\n",
    "  #     #   redundancy[kj] = encoded_vt[kj] \n",
    "  #     # else:\n",
    "  #     #   redundancy[kj] = 1 - encoded_vt[kj]\n",
    "  #     pos_val_thi += 1\n",
    "\n",
    "  # # B = vt._correct_binary_substitution(n, m, 0, np.array(A))\n",
    "  # syndrome = vt._compute_syndrome_binary(m, 0, np.array(redundancy))\n",
    "\n",
    "\n",
    "  # if syndrome != 0:\n",
    "  #     for pos in reversed(parity_pos):\n",
    "  #       if syndrome >= pos:\n",
    "  #         redundancy[pos - 1] = 1\n",
    "  #         syndrome -= pos\n",
    "  #         if syndrome == 0:\n",
    "  #           break\n",
    "        \n",
    "\n",
    "\n",
    "  redundancy_val.append(redundancy_enc)\n",
    "\n",
    "  iter_val = tuple(zip(encoded_vt, redundancy_enc))\n",
    "\n",
    "  DNA_codeword = [dict_map2[vals]for vals in iter_val]\n",
    "\n",
    "  DNA_code.append(DNA_codeword)\n",
    "\n",
    "  syndrome_val.append(binary_10_digit._is_codeword_new(np.array(redundancy_enc)))"
   ]
  },
  {
   "cell_type": "code",
   "execution_count": 62,
   "metadata": {},
   "outputs": [
    {
     "data": {
      "text/plain": [
       "array([0, 0, 1, 0, 1, 1, 1, 0, 0, 0])"
      ]
     },
     "execution_count": 62,
     "metadata": {},
     "output_type": "execute_result"
    }
   ],
   "source": [
    "encoded_vt"
   ]
  },
  {
   "cell_type": "code",
   "execution_count": 63,
   "metadata": {},
   "outputs": [
    {
     "data": {
      "text/plain": [
       "[1, 1, 0, 0, 1]"
      ]
     },
     "execution_count": 63,
     "metadata": {},
     "output_type": "execute_result"
    }
   ],
   "source": [
    "redundancy"
   ]
  },
  {
   "cell_type": "code",
   "execution_count": 64,
   "metadata": {},
   "outputs": [],
   "source": [
    "Gc_content = [(elements.count('G') + elements.count('C'))/n for elements in DNA_code]\n"
   ]
  },
  {
   "cell_type": "code",
   "execution_count": 65,
   "metadata": {},
   "outputs": [],
   "source": [
    "hello = pd.DataFrame([vt_encoded_val, redundancy_val, DNA_code, Gc_content, syndrome_val])\n",
    "hello = hello.transpose()\n",
    "hello.columns= ['vt_encode', 'Word', ' DNA', 'Gc_content', \"Syndrome\"]"
   ]
  },
  {
   "cell_type": "code",
   "execution_count": 66,
   "metadata": {},
   "outputs": [
    {
     "data": {
      "text/plain": [
       "0"
      ]
     },
     "execution_count": 66,
     "metadata": {},
     "output_type": "execute_result"
    }
   ],
   "source": [
    "max(syndrome_val)"
   ]
  },
  {
   "cell_type": "code",
   "execution_count": 67,
   "metadata": {},
   "outputs": [
    {
     "data": {
      "text/html": [
       "<div>\n",
       "<style scoped>\n",
       "    .dataframe tbody tr th:only-of-type {\n",
       "        vertical-align: middle;\n",
       "    }\n",
       "\n",
       "    .dataframe tbody tr th {\n",
       "        vertical-align: top;\n",
       "    }\n",
       "\n",
       "    .dataframe thead th {\n",
       "        text-align: right;\n",
       "    }\n",
       "</style>\n",
       "<table border=\"1\" class=\"dataframe\">\n",
       "  <thead>\n",
       "    <tr style=\"text-align: right;\">\n",
       "      <th></th>\n",
       "      <th>vt_encode</th>\n",
       "      <th>Word</th>\n",
       "      <th>DNA</th>\n",
       "      <th>Gc_content</th>\n",
       "      <th>Syndrome</th>\n",
       "    </tr>\n",
       "  </thead>\n",
       "  <tbody>\n",
       "    <tr>\n",
       "      <th>0</th>\n",
       "      <td>[1, 0, 1, 0, 0, 0, 0, 1, 1, 0]</td>\n",
       "      <td>[1, 0, 1, 1, 0, 1, 1, 0, 0, 0]</td>\n",
       "      <td>[C, G, C, T, G, T, T, A, A, G]</td>\n",
       "      <td>0.5</td>\n",
       "      <td>0</td>\n",
       "    </tr>\n",
       "    <tr>\n",
       "      <th>1</th>\n",
       "      <td>[1, 0, 1, 0, 0, 0, 1, 0, 0, 1]</td>\n",
       "      <td>[1, 1, 1, 0, 0, 1, 0, 0, 1, 0]</td>\n",
       "      <td>[C, T, C, G, G, T, A, G, T, A]</td>\n",
       "      <td>0.5</td>\n",
       "      <td>0</td>\n",
       "    </tr>\n",
       "    <tr>\n",
       "      <th>2</th>\n",
       "      <td>[0, 1, 1, 0, 0, 1, 0, 0, 0, 1]</td>\n",
       "      <td>[0, 1, 1, 0, 0, 0, 1, 0, 1, 0]</td>\n",
       "      <td>[G, C, C, G, G, A, T, G, T, A]</td>\n",
       "      <td>0.6</td>\n",
       "      <td>0</td>\n",
       "    </tr>\n",
       "    <tr>\n",
       "      <th>3</th>\n",
       "      <td>[1, 1, 1, 1, 0, 1, 1, 0, 1, 1]</td>\n",
       "      <td>[0, 0, 1, 0, 0, 0, 0, 1, 0, 1]</td>\n",
       "      <td>[A, A, C, A, G, A, A, T, A, C]</td>\n",
       "      <td>0.3</td>\n",
       "      <td>0</td>\n",
       "    </tr>\n",
       "    <tr>\n",
       "      <th>4</th>\n",
       "      <td>[1, 1, 1, 0, 1, 0, 0, 0, 0, 1]</td>\n",
       "      <td>[0, 1, 1, 0, 1, 1, 1, 0, 1, 1]</td>\n",
       "      <td>[A, C, C, G, C, T, T, G, T, C]</td>\n",
       "      <td>0.6</td>\n",
       "      <td>0</td>\n",
       "    </tr>\n",
       "    <tr>\n",
       "      <th>5</th>\n",
       "      <td>[0, 0, 1, 0, 1, 0, 1, 1, 1, 1]</td>\n",
       "      <td>[1, 1, 1, 1, 1, 1, 0, 0, 0, 0]</td>\n",
       "      <td>[T, T, C, T, C, T, A, A, A, A]</td>\n",
       "      <td>0.2</td>\n",
       "      <td>0</td>\n",
       "    </tr>\n",
       "    <tr>\n",
       "      <th>6</th>\n",
       "      <td>[1, 0, 1, 0, 1, 1, 0, 1, 1, 1]</td>\n",
       "      <td>[0, 1, 1, 1, 1, 0, 1, 0, 0, 0]</td>\n",
       "      <td>[A, T, C, T, C, A, T, A, A, A]</td>\n",
       "      <td>0.2</td>\n",
       "      <td>0</td>\n",
       "    </tr>\n",
       "    <tr>\n",
       "      <th>7</th>\n",
       "      <td>[0, 0, 1, 0, 1, 1, 1, 0, 0, 0]</td>\n",
       "      <td>[0, 0, 1, 1, 1, 0, 0, 0, 1, 0]</td>\n",
       "      <td>[G, G, C, T, C, A, A, G, T, G]</td>\n",
       "      <td>0.6</td>\n",
       "      <td>0</td>\n",
       "    </tr>\n",
       "  </tbody>\n",
       "</table>\n",
       "</div>"
      ],
      "text/plain": [
       "                        vt_encode                            Word  \\\n",
       "0  [1, 0, 1, 0, 0, 0, 0, 1, 1, 0]  [1, 0, 1, 1, 0, 1, 1, 0, 0, 0]   \n",
       "1  [1, 0, 1, 0, 0, 0, 1, 0, 0, 1]  [1, 1, 1, 0, 0, 1, 0, 0, 1, 0]   \n",
       "2  [0, 1, 1, 0, 0, 1, 0, 0, 0, 1]  [0, 1, 1, 0, 0, 0, 1, 0, 1, 0]   \n",
       "3  [1, 1, 1, 1, 0, 1, 1, 0, 1, 1]  [0, 0, 1, 0, 0, 0, 0, 1, 0, 1]   \n",
       "4  [1, 1, 1, 0, 1, 0, 0, 0, 0, 1]  [0, 1, 1, 0, 1, 1, 1, 0, 1, 1]   \n",
       "5  [0, 0, 1, 0, 1, 0, 1, 1, 1, 1]  [1, 1, 1, 1, 1, 1, 0, 0, 0, 0]   \n",
       "6  [1, 0, 1, 0, 1, 1, 0, 1, 1, 1]  [0, 1, 1, 1, 1, 0, 1, 0, 0, 0]   \n",
       "7  [0, 0, 1, 0, 1, 1, 1, 0, 0, 0]  [0, 0, 1, 1, 1, 0, 0, 0, 1, 0]   \n",
       "\n",
       "                              DNA Gc_content Syndrome  \n",
       "0  [C, G, C, T, G, T, T, A, A, G]        0.5        0  \n",
       "1  [C, T, C, G, G, T, A, G, T, A]        0.5        0  \n",
       "2  [G, C, C, G, G, A, T, G, T, A]        0.6        0  \n",
       "3  [A, A, C, A, G, A, A, T, A, C]        0.3        0  \n",
       "4  [A, C, C, G, C, T, T, G, T, C]        0.6        0  \n",
       "5  [T, T, C, T, C, T, A, A, A, A]        0.2        0  \n",
       "6  [A, T, C, T, C, A, T, A, A, A]        0.2        0  \n",
       "7  [G, G, C, T, C, A, A, G, T, G]        0.6        0  "
      ]
     },
     "execution_count": 67,
     "metadata": {},
     "output_type": "execute_result"
    }
   ],
   "source": [
    "hello"
   ]
  },
  {
   "cell_type": "code",
   "execution_count": 68,
   "metadata": {},
   "outputs": [
    {
     "data": {
      "text/plain": [
       "0.6"
      ]
     },
     "execution_count": 68,
     "metadata": {},
     "output_type": "execute_result"
    }
   ],
   "source": [
    "max(Gc_content)"
   ]
  },
  {
   "cell_type": "code",
   "execution_count": 69,
   "metadata": {},
   "outputs": [
    {
     "data": {
      "text/plain": [
       "0.2"
      ]
     },
     "execution_count": 69,
     "metadata": {},
     "output_type": "execute_result"
    }
   ],
   "source": [
    "min(Gc_content)"
   ]
  },
  {
   "cell_type": "code",
   "execution_count": null,
   "metadata": {},
   "outputs": [],
   "source": []
  }
 ],
 "metadata": {
  "kernelspec": {
   "display_name": "VT_codes",
   "language": "python",
   "name": "python3"
  },
  "language_info": {
   "codemirror_mode": {
    "name": "ipython",
    "version": 3
   },
   "file_extension": ".py",
   "mimetype": "text/x-python",
   "name": "python",
   "nbconvert_exporter": "python",
   "pygments_lexer": "ipython3",
   "version": "3.10.12"
  }
 },
 "nbformat": 4,
 "nbformat_minor": 2
}
