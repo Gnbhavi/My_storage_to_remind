{
 "cells": [
  {
   "cell_type": "code",
   "execution_count": null,
   "id": "775c61cf",
   "metadata": {},
   "outputs": [],
   "source": [
    "import torch.nn"
   ]
  }
 ],
 "metadata": {
  "kernelspec": {
   "display_name": "Python 3.9.12 ('For_pytorch_GoogleNet')",
   "language": "python",
   "name": "python3"
  },
  "language_info": {
   "codemirror_mode": {
    "name": "ipython",
    "version": 3
   },
   "file_extension": ".py",
   "mimetype": "text/x-python",
   "name": "python",
   "nbconvert_exporter": "python",
   "pygments_lexer": "ipython3",
   "version": "3.9.12"
  },
  "vscode": {
   "interpreter": {
    "hash": "6dcd85dc5ef309e998f0d437c616b4ea25668e1f241d0d9b391eeeab7d999ec0"
   }
  }
 },
 "nbformat": 4,
 "nbformat_minor": 5
}
